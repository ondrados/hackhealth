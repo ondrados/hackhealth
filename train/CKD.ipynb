{
 "cells": [
  {
   "cell_type": "code",
   "execution_count": 55,
   "id": "5cfb208a",
   "metadata": {},
   "outputs": [],
   "source": [
    "import numpy as np\n",
    "import pandas as pd"
   ]
  },
  {
   "cell_type": "code",
   "execution_count": 4,
   "id": "b0384471",
   "metadata": {},
   "outputs": [],
   "source": [
    "df = pd.read_csv(\"hackathon eGFR_MAU_AMB.csv\", sep=\"\\t\")"
   ]
  },
  {
   "cell_type": "code",
   "execution_count": 59,
   "id": "00e76583",
   "metadata": {},
   "outputs": [
    {
     "data": {
      "text/plain": [
       "Patient               1377626\n",
       "Age                      20,7\n",
       "N18                       NaN\n",
       "DM                        NaN\n",
       "eGFR_Last                 NaN\n",
       "ACR_krea_Last             NaN\n",
       "HT                        NaN\n",
       "RpAntiHypertenziva        NaN\n",
       "Name: 8, dtype: object"
      ]
     },
     "execution_count": 59,
     "metadata": {},
     "output_type": "execute_result"
    }
   ],
   "source": [
    "df.loc[8]"
   ]
  },
  {
   "cell_type": "code",
   "execution_count": 33,
   "id": "4a82c1c7",
   "metadata": {},
   "outputs": [
    {
     "data": {
      "text/plain": [
       "array([nan,  1.])"
      ]
     },
     "execution_count": 33,
     "metadata": {},
     "output_type": "execute_result"
    }
   ],
   "source": [
    "df.N18.unique()"
   ]
  },
  {
   "cell_type": "code",
   "execution_count": 25,
   "id": "d95eeda3",
   "metadata": {},
   "outputs": [
    {
     "data": {
      "text/plain": [
       "65.72375542933511"
      ]
     },
     "execution_count": 25,
     "metadata": {},
     "output_type": "execute_result"
    }
   ],
   "source": [
    "df.loc[df[\"N18\"] == 1].Age.str.replace(\",\", \".\").astype(float).mean()"
   ]
  },
  {
   "cell_type": "code",
   "execution_count": 26,
   "id": "cae0b666",
   "metadata": {},
   "outputs": [
    {
     "data": {
      "text/plain": [
       "46.950021457017314"
      ]
     },
     "execution_count": 26,
     "metadata": {},
     "output_type": "execute_result"
    }
   ],
   "source": [
    "df.loc[df[\"N18\"] != 1].Age.str.replace(\",\", \".\").astype(float).mean()"
   ]
  },
  {
   "cell_type": "code",
   "execution_count": 36,
   "id": "9ae82b96",
   "metadata": {},
   "outputs": [
    {
     "data": {
      "text/html": [
       "<div>\n",
       "<style scoped>\n",
       "    .dataframe tbody tr th:only-of-type {\n",
       "        vertical-align: middle;\n",
       "    }\n",
       "\n",
       "    .dataframe tbody tr th {\n",
       "        vertical-align: top;\n",
       "    }\n",
       "\n",
       "    .dataframe thead th {\n",
       "        text-align: right;\n",
       "    }\n",
       "</style>\n",
       "<table border=\"1\" class=\"dataframe\">\n",
       "  <thead>\n",
       "    <tr style=\"text-align: right;\">\n",
       "      <th></th>\n",
       "      <th>Patient</th>\n",
       "      <th>Age</th>\n",
       "      <th>N18</th>\n",
       "      <th>DM</th>\n",
       "      <th>eGFR_Last</th>\n",
       "      <th>ACR_krea_Last</th>\n",
       "      <th>HT</th>\n",
       "      <th>RpAntiHypertenziva</th>\n",
       "    </tr>\n",
       "  </thead>\n",
       "  <tbody>\n",
       "  </tbody>\n",
       "</table>\n",
       "</div>"
      ],
      "text/plain": [
       "Empty DataFrame\n",
       "Columns: [Patient, Age, N18, DM, eGFR_Last, ACR_krea_Last, HT, RpAntiHypertenziva]\n",
       "Index: []"
      ]
     },
     "execution_count": 36,
     "metadata": {},
     "output_type": "execute_result"
    }
   ],
   "source": [
    "df.loc[df[\"N18\"] == \"nan\"]"
   ]
  },
  {
   "cell_type": "code",
   "execution_count": 53,
   "id": "08fa9814",
   "metadata": {},
   "outputs": [
    {
     "data": {
      "text/html": [
       "<div>\n",
       "<style scoped>\n",
       "    .dataframe tbody tr th:only-of-type {\n",
       "        vertical-align: middle;\n",
       "    }\n",
       "\n",
       "    .dataframe tbody tr th {\n",
       "        vertical-align: top;\n",
       "    }\n",
       "\n",
       "    .dataframe thead th {\n",
       "        text-align: right;\n",
       "    }\n",
       "</style>\n",
       "<table border=\"1\" class=\"dataframe\">\n",
       "  <thead>\n",
       "    <tr style=\"text-align: right;\">\n",
       "      <th></th>\n",
       "      <th>Patient</th>\n",
       "      <th>Age</th>\n",
       "      <th>N18</th>\n",
       "      <th>DM</th>\n",
       "      <th>eGFR_Last</th>\n",
       "      <th>ACR_krea_Last</th>\n",
       "      <th>HT</th>\n",
       "      <th>RpAntiHypertenziva</th>\n",
       "    </tr>\n",
       "  </thead>\n",
       "  <tbody>\n",
       "    <tr>\n",
       "      <th>17</th>\n",
       "      <td>1377630</td>\n",
       "      <td>66,2</td>\n",
       "      <td>NaN</td>\n",
       "      <td>NaN</td>\n",
       "      <td>1,34</td>\n",
       "      <td>NaN</td>\n",
       "      <td>I10/I15</td>\n",
       "      <td>1.0</td>\n",
       "    </tr>\n",
       "    <tr>\n",
       "      <th>21</th>\n",
       "      <td>1373369</td>\n",
       "      <td>28,2</td>\n",
       "      <td>NaN</td>\n",
       "      <td>NaN</td>\n",
       "      <td>2,02</td>\n",
       "      <td>NaN</td>\n",
       "      <td>NaN</td>\n",
       "      <td>NaN</td>\n",
       "    </tr>\n",
       "    <tr>\n",
       "      <th>55</th>\n",
       "      <td>1367926</td>\n",
       "      <td>51,1</td>\n",
       "      <td>NaN</td>\n",
       "      <td>NaN</td>\n",
       "      <td>1,31</td>\n",
       "      <td>NaN</td>\n",
       "      <td>NaN</td>\n",
       "      <td>1.0</td>\n",
       "    </tr>\n",
       "    <tr>\n",
       "      <th>75</th>\n",
       "      <td>594348</td>\n",
       "      <td>74,3</td>\n",
       "      <td>1.0</td>\n",
       "      <td>NaN</td>\n",
       "      <td>0,35</td>\n",
       "      <td>132,7</td>\n",
       "      <td>I10/I15</td>\n",
       "      <td>NaN</td>\n",
       "    </tr>\n",
       "    <tr>\n",
       "      <th>86</th>\n",
       "      <td>1377702</td>\n",
       "      <td>23,5</td>\n",
       "      <td>NaN</td>\n",
       "      <td>NaN</td>\n",
       "      <td>1,6</td>\n",
       "      <td>NaN</td>\n",
       "      <td>NaN</td>\n",
       "      <td>NaN</td>\n",
       "    </tr>\n",
       "    <tr>\n",
       "      <th>...</th>\n",
       "      <td>...</td>\n",
       "      <td>...</td>\n",
       "      <td>...</td>\n",
       "      <td>...</td>\n",
       "      <td>...</td>\n",
       "      <td>...</td>\n",
       "      <td>...</td>\n",
       "      <td>...</td>\n",
       "    </tr>\n",
       "    <tr>\n",
       "      <th>119469</th>\n",
       "      <td>1372644</td>\n",
       "      <td>50,7</td>\n",
       "      <td>NaN</td>\n",
       "      <td>NaN</td>\n",
       "      <td>1,75</td>\n",
       "      <td>NaN</td>\n",
       "      <td>NaN</td>\n",
       "      <td>NaN</td>\n",
       "    </tr>\n",
       "    <tr>\n",
       "      <th>119470</th>\n",
       "      <td>188631</td>\n",
       "      <td>51,6</td>\n",
       "      <td>NaN</td>\n",
       "      <td>1.0</td>\n",
       "      <td>NaN</td>\n",
       "      <td>NaN</td>\n",
       "      <td>NaN</td>\n",
       "      <td>NaN</td>\n",
       "    </tr>\n",
       "    <tr>\n",
       "      <th>119471</th>\n",
       "      <td>6850</td>\n",
       "      <td>47,3</td>\n",
       "      <td>NaN</td>\n",
       "      <td>NaN</td>\n",
       "      <td>1,74</td>\n",
       "      <td>NaN</td>\n",
       "      <td>NaN</td>\n",
       "      <td>1.0</td>\n",
       "    </tr>\n",
       "    <tr>\n",
       "      <th>119472</th>\n",
       "      <td>149565</td>\n",
       "      <td>60,1</td>\n",
       "      <td>NaN</td>\n",
       "      <td>NaN</td>\n",
       "      <td>NaN</td>\n",
       "      <td>NaN</td>\n",
       "      <td>I10/I15</td>\n",
       "      <td>1.0</td>\n",
       "    </tr>\n",
       "    <tr>\n",
       "      <th>119505</th>\n",
       "      <td>1365640</td>\n",
       "      <td>25,7</td>\n",
       "      <td>NaN</td>\n",
       "      <td>NaN</td>\n",
       "      <td>2,1</td>\n",
       "      <td>NaN</td>\n",
       "      <td>NaN</td>\n",
       "      <td>NaN</td>\n",
       "    </tr>\n",
       "  </tbody>\n",
       "</table>\n",
       "<p>39287 rows × 8 columns</p>\n",
       "</div>"
      ],
      "text/plain": [
       "        Patient   Age  N18   DM eGFR_Last ACR_krea_Last       HT  \\\n",
       "17      1377630  66,2  NaN  NaN      1,34           NaN  I10/I15   \n",
       "21      1373369  28,2  NaN  NaN      2,02           NaN      NaN   \n",
       "55      1367926  51,1  NaN  NaN      1,31           NaN      NaN   \n",
       "75       594348  74,3  1.0  NaN      0,35         132,7  I10/I15   \n",
       "86      1377702  23,5  NaN  NaN       1,6           NaN      NaN   \n",
       "...         ...   ...  ...  ...       ...           ...      ...   \n",
       "119469  1372644  50,7  NaN  NaN      1,75           NaN      NaN   \n",
       "119470   188631  51,6  NaN  1.0       NaN           NaN      NaN   \n",
       "119471     6850  47,3  NaN  NaN      1,74           NaN      NaN   \n",
       "119472   149565  60,1  NaN  NaN       NaN           NaN  I10/I15   \n",
       "119505  1365640  25,7  NaN  NaN       2,1           NaN      NaN   \n",
       "\n",
       "        RpAntiHypertenziva  \n",
       "17                     1.0  \n",
       "21                     NaN  \n",
       "55                     1.0  \n",
       "75                     NaN  \n",
       "86                     NaN  \n",
       "...                    ...  \n",
       "119469                 NaN  \n",
       "119470                 NaN  \n",
       "119471                 1.0  \n",
       "119472                 1.0  \n",
       "119505                 NaN  \n",
       "\n",
       "[39287 rows x 8 columns]"
      ]
     },
     "execution_count": 53,
     "metadata": {},
     "output_type": "execute_result"
    }
   ],
   "source": [
    "df[~df.iloc[:, 2:].isnull().all(1)]"
   ]
  },
  {
   "cell_type": "code",
   "execution_count": null,
   "id": "0a633ebd",
   "metadata": {},
   "outputs": [],
   "source": []
  }
 ],
 "metadata": {
  "kernelspec": {
   "display_name": "hackhealth",
   "language": "python",
   "name": "hackhealth"
  },
  "language_info": {
   "codemirror_mode": {
    "name": "ipython",
    "version": 3
   },
   "file_extension": ".py",
   "mimetype": "text/x-python",
   "name": "python",
   "nbconvert_exporter": "python",
   "pygments_lexer": "ipython3",
   "version": "3.8.5"
  }
 },
 "nbformat": 4,
 "nbformat_minor": 5
}
